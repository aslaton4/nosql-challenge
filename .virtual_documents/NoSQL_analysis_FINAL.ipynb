





from pymongo import MongoClient
import pandas as pd
from pprint import pprint


# Create an instance of MongoClient
mongo = MongoClient(port=27017)


# assign the uk_food database to a variable name
db = mongo['uk_food']


# review the collections in our database
collections = db.list_collection_names()
print("Collections in 'uk_food':", collections)


# assign the collection to a variable
establishments = db['establishments']








# Find the establishments with a hygiene score of 20
query = {"scores.Hygiene": 20}

# Use count_documents to display the number of documents in the result
hygiene_count = establishments.count_documents(query)
print(f"Number of establishments with a hygiene score of 20: {hygiene_count}")

# Display the first document in the results using pprint
first_hygiene_doc = establishments.find_one(query)
print("First establishment with a hygiene score of 20:")
pprint(first_hygiene_doc)


# Convert the result to a Pandas DataFrame
hygiene_results = establishments.find(query)
hygiene_df = pd.DataFrame(list(hygiene_results))

# Display the number of rows in the DataFrame
print(f"Number of rows in the DataFrame: {len(hygiene_df)}")

# Display the first 10 rows of the DataFrame
print("First 10 rows of the DataFrame:")
hygiene_df.head(10)





# Find the establishments with London as the Local Authority and has a RatingValue greater than or equal to 4.
query = {
    "LocalAuthorityName": {"$regex": "London", "$options": "i"},  # Case-insensitive regex for "London"
    "RatingValue": {"$gte": 4}  # RatingValue greater than or equal to 4
}

# Use count_documents to display the number of documents in the result
london_count = establishments.count_documents(query)
print(f"Number of establishments in London with RatingValue >= 4: {london_count}")

# Display the first document in the results using pprint
first_london_doc = establishments.find_one(query)
print("First establishment in London with RatingValue >= 4:")
pprint(first_london_doc)


# Convert the result to a Pandas DataFrame
london_results = establishments.find(query)
london_df = pd.DataFrame(list(london_results))

# Display the number of rows in the DataFrame
print(f"Number of rows in the DataFrame: {len(london_df)}")

# Display the first 10 rows of the DataFrame
print("First 10 rows of the DataFrame:")
london_df.head(10)





# Search within 0.01 degree on either side of the latitude and longitude.
# Rating value must equal 5
# Sort by hygiene score

degree_search = 0.01
latitude = 51.49014200
longitude = 0.08384000

query = {
    "RatingValue": 5,
    "geocode.latitude": {"$gte": latitude - degree_search, "$lte": latitude + degree_search},
    "geocode.longitude": {"$gte": longitude - degree_search, "$lte": longitude + degree_search}
}
sort = sort = [("scores.Hygiene", 1)]
limit = limit = 5

# Print the results
top_establishments = list(establishments.find(query).sort(sort).limit(limit))

print("Top 5 establishments with RatingValue 5, sorted by lowest hygiene score, nearest to 'Penang Flavours':")
for establishment in top_establishments:
    pprint(establishment)


# Convert result to Pandas DataFrame
top_establishments_df = pd.DataFrame(top_establishments)
print(f"Number of rows in the DataFrame: {len(top_establishments_df)}")
print("First 10 rows of the DataFrame:")
top_establishments_df.head(10)






# Create a pipeline that:
# 1. Matches establishments with a hygiene score of 0
# 2. Groups the matches by Local Authority
# 3. Sorts the matches from highest to lowest
pipeline = [
    # Match establishments with a hygiene score of 0
    {"$match": {"scores.Hygiene": 0}},
    
    # Group by Local Authority Name and count the number of establishments
    {"$group": {"_id": "$LocalAuthorityName", "count": {"$sum": 1}}},
    
    # Sort by count in descending order
    {"$sort": {"count": -1}}
]
results = list(establishments.aggregate(pipeline))

# Print the number of documents in the result
print(f"Number of Local Authorities with establishments having a hygiene score of 0: {len(results)}")

# Print the first 10 results
print("Top 10 Local Authorities with establishments having a hygiene score of 0:")
pprint(results[:10])


# Convert the result to a Pandas DataFrame
hygiene_df = pd.DataFrame(results)
hygiene_df.rename(columns={"_id": "LocalAuthorityName", "count": "EstablishmentsWithHygieneScore0"}, inplace=True)

# Display the number of rows in the DataFrame
print(f"Number of rows in the DataFrame: {len(hygiene_df)}")

# Display the first 10 rows of the DataFrame
print("First 10 rows of the DataFrame:")
hygiene_df.head(10)



